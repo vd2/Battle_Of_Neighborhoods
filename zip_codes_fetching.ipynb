{
 "cells": [
  {
   "cell_type": "markdown",
   "metadata": {},
   "source": [
    "# Fetching the city districts' names with postal codes"
   ]
  },
  {
   "cell_type": "code",
   "execution_count": 1,
   "metadata": {},
   "outputs": [],
   "source": [
    "from bs4 import BeautifulSoup\n",
    "import requests\n",
    "import pandas as pd\n",
    "import numpy as np"
   ]
  },
  {
   "cell_type": "markdown",
   "metadata": {},
   "source": [
    "Let's start with Chicago"
   ]
  },
  {
   "cell_type": "code",
   "execution_count": 571,
   "metadata": {},
   "outputs": [],
   "source": [
    "url = 'https://www.seechicagorealestate.com/chicago-zip-codes-by-neighborhood.php'\n",
    "raw = requests.get(url).text"
   ]
  },
  {
   "cell_type": "code",
   "execution_count": 573,
   "metadata": {},
   "outputs": [],
   "source": [
    "table = BeautifulSoup(raw, 'html.parser').find('table')"
   ]
  },
  {
   "cell_type": "code",
   "execution_count": 574,
   "metadata": {},
   "outputs": [],
   "source": [
    "df = pd.read_html(str(table))[0]"
   ]
  },
  {
   "cell_type": "code",
   "execution_count": 575,
   "metadata": {},
   "outputs": [],
   "source": [
    "df.columns = ['name', 'zip']"
   ]
  },
  {
   "cell_type": "code",
   "execution_count": 576,
   "metadata": {},
   "outputs": [],
   "source": [
    "df.dropna(inplace=True)\n",
    "df.reset_index(drop=True, inplace=True)"
   ]
  },
  {
   "cell_type": "markdown",
   "metadata": {},
   "source": [
    "There are 77 neighborhoods in Chicago and comparable number of them in other two cities of interest (LA and NY). We don't need such level of fragmentation for our analysis, so in the case of Chicago "
   ]
  },
  {
   "cell_type": "code",
   "execution_count": 577,
   "metadata": {},
   "outputs": [],
   "source": [
    "side = ''\n",
    "for i in df.index:\n",
    "    if df.at[i, 'zip'] == 'Zip Code':\n",
    "        side = df.at[i, 'name']\n",
    "    df.at[i, 'city_district'] = side"
   ]
  },
  {
   "cell_type": "code",
   "execution_count": 578,
   "metadata": {},
   "outputs": [
    {
     "data": {
      "text/html": [
       "<div>\n",
       "<style scoped>\n",
       "    .dataframe tbody tr th:only-of-type {\n",
       "        vertical-align: middle;\n",
       "    }\n",
       "\n",
       "    .dataframe tbody tr th {\n",
       "        vertical-align: top;\n",
       "    }\n",
       "\n",
       "    .dataframe thead th {\n",
       "        text-align: right;\n",
       "    }\n",
       "</style>\n",
       "<table border=\"1\" class=\"dataframe\">\n",
       "  <thead>\n",
       "    <tr style=\"text-align: right;\">\n",
       "      <th></th>\n",
       "      <th>name</th>\n",
       "      <th>zip</th>\n",
       "      <th>city_district</th>\n",
       "    </tr>\n",
       "  </thead>\n",
       "  <tbody>\n",
       "    <tr>\n",
       "      <th>0</th>\n",
       "      <td>Downtown</td>\n",
       "      <td>Zip Code</td>\n",
       "      <td>Downtown</td>\n",
       "    </tr>\n",
       "    <tr>\n",
       "      <th>1</th>\n",
       "      <td>Cathedral District</td>\n",
       "      <td>60611</td>\n",
       "      <td>Downtown</td>\n",
       "    </tr>\n",
       "    <tr>\n",
       "      <th>2</th>\n",
       "      <td>Central Station</td>\n",
       "      <td>60605</td>\n",
       "      <td>Downtown</td>\n",
       "    </tr>\n",
       "    <tr>\n",
       "      <th>3</th>\n",
       "      <td>Dearborn Park</td>\n",
       "      <td>60605</td>\n",
       "      <td>Downtown</td>\n",
       "    </tr>\n",
       "    <tr>\n",
       "      <th>4</th>\n",
       "      <td>Gold Coast</td>\n",
       "      <td>60610, 60611</td>\n",
       "      <td>Downtown</td>\n",
       "    </tr>\n",
       "  </tbody>\n",
       "</table>\n",
       "</div>"
      ],
      "text/plain": [
       "                 name           zip city_district\n",
       "0            Downtown      Zip Code      Downtown\n",
       "1  Cathedral District         60611      Downtown\n",
       "2     Central Station         60605      Downtown\n",
       "3       Dearborn Park         60605      Downtown\n",
       "4          Gold Coast  60610, 60611      Downtown"
      ]
     },
     "execution_count": 578,
     "metadata": {},
     "output_type": "execute_result"
    }
   ],
   "source": [
    "df.head()"
   ]
  },
  {
   "cell_type": "code",
   "execution_count": 579,
   "metadata": {},
   "outputs": [],
   "source": [
    "# df['zip'] = df.zip.apply(lambda x: x.split(sep=','))"
   ]
  },
  {
   "cell_type": "code",
   "execution_count": 580,
   "metadata": {},
   "outputs": [
    {
     "data": {
      "text/plain": [
       "Northwest Side     56\n",
       "Western Suburbs    33\n",
       "Downtown           25\n",
       "South Side         24\n",
       "North Side         22\n",
       "North Shore        17\n",
       "Far North Side     15\n",
       "Name: city_district, dtype: int64"
      ]
     },
     "execution_count": 580,
     "metadata": {},
     "output_type": "execute_result"
    }
   ],
   "source": [
    "df.city_district.value_counts()"
   ]
  },
  {
   "cell_type": "code",
   "execution_count": 581,
   "metadata": {},
   "outputs": [],
   "source": [
    "for i in df.index:\n",
    "    if df.at[i, 'zip'] == 'Zip Code':\n",
    "        df.drop(i, inplace=True)"
   ]
  },
  {
   "cell_type": "code",
   "execution_count": 582,
   "metadata": {},
   "outputs": [],
   "source": [
    "df.drop(df[df.zip == 'Zip Code'].index, inplace=True)\n",
    "df.reset_index(drop=True, inplace=True)"
   ]
  },
  {
   "cell_type": "code",
   "execution_count": 584,
   "metadata": {},
   "outputs": [
    {
     "data": {
      "text/html": [
       "<div>\n",
       "<style scoped>\n",
       "    .dataframe tbody tr th:only-of-type {\n",
       "        vertical-align: middle;\n",
       "    }\n",
       "\n",
       "    .dataframe tbody tr th {\n",
       "        vertical-align: top;\n",
       "    }\n",
       "\n",
       "    .dataframe thead th {\n",
       "        text-align: right;\n",
       "    }\n",
       "</style>\n",
       "<table border=\"1\" class=\"dataframe\">\n",
       "  <thead>\n",
       "    <tr style=\"text-align: right;\">\n",
       "      <th></th>\n",
       "      <th>name</th>\n",
       "      <th>zip</th>\n",
       "      <th>city_district</th>\n",
       "    </tr>\n",
       "  </thead>\n",
       "  <tbody>\n",
       "    <tr>\n",
       "      <th>12</th>\n",
       "      <td>Printers Row</td>\n",
       "      <td>60605</td>\n",
       "      <td>Downtown</td>\n",
       "    </tr>\n",
       "    <tr>\n",
       "      <th>125</th>\n",
       "      <td>Sleepy Hollow</td>\n",
       "      <td>60118</td>\n",
       "      <td>Northwest Side</td>\n",
       "    </tr>\n",
       "    <tr>\n",
       "      <th>134</th>\n",
       "      <td>Burr Ridge</td>\n",
       "      <td>60527</td>\n",
       "      <td>Western Suburbs</td>\n",
       "    </tr>\n",
       "    <tr>\n",
       "      <th>137</th>\n",
       "      <td>Elmhurst</td>\n",
       "      <td>60126</td>\n",
       "      <td>Western Suburbs</td>\n",
       "    </tr>\n",
       "    <tr>\n",
       "      <th>31</th>\n",
       "      <td>Lakeview East</td>\n",
       "      <td>60613, 60657</td>\n",
       "      <td>North Side</td>\n",
       "    </tr>\n",
       "  </tbody>\n",
       "</table>\n",
       "</div>"
      ],
      "text/plain": [
       "              name           zip    city_district\n",
       "12    Printers Row         60605         Downtown\n",
       "125  Sleepy Hollow         60118   Northwest Side\n",
       "134     Burr Ridge         60527  Western Suburbs\n",
       "137       Elmhurst         60126  Western Suburbs\n",
       "31   Lakeview East  60613, 60657       North Side"
      ]
     },
     "execution_count": 584,
     "metadata": {},
     "output_type": "execute_result"
    }
   ],
   "source": [
    "df.sample(5)"
   ]
  },
  {
   "cell_type": "code",
   "execution_count": 587,
   "metadata": {},
   "outputs": [],
   "source": [
    "df = df[['city_district', 'zip']]"
   ]
  },
  {
   "cell_type": "code",
   "execution_count": 589,
   "metadata": {},
   "outputs": [
    {
     "data": {
      "text/html": [
       "<div>\n",
       "<style scoped>\n",
       "    .dataframe tbody tr th:only-of-type {\n",
       "        vertical-align: middle;\n",
       "    }\n",
       "\n",
       "    .dataframe tbody tr th {\n",
       "        vertical-align: top;\n",
       "    }\n",
       "\n",
       "    .dataframe thead th {\n",
       "        text-align: right;\n",
       "    }\n",
       "</style>\n",
       "<table border=\"1\" class=\"dataframe\">\n",
       "  <thead>\n",
       "    <tr style=\"text-align: right;\">\n",
       "      <th></th>\n",
       "      <th>city_district</th>\n",
       "      <th>zip</th>\n",
       "    </tr>\n",
       "  </thead>\n",
       "  <tbody>\n",
       "    <tr>\n",
       "      <th>0</th>\n",
       "      <td>Downtown</td>\n",
       "      <td>60611</td>\n",
       "    </tr>\n",
       "    <tr>\n",
       "      <th>1</th>\n",
       "      <td>Downtown</td>\n",
       "      <td>60605</td>\n",
       "    </tr>\n",
       "    <tr>\n",
       "      <th>2</th>\n",
       "      <td>Downtown</td>\n",
       "      <td>60605</td>\n",
       "    </tr>\n",
       "    <tr>\n",
       "      <th>3</th>\n",
       "      <td>Downtown</td>\n",
       "      <td>60610, 60611</td>\n",
       "    </tr>\n",
       "    <tr>\n",
       "      <th>4</th>\n",
       "      <td>Downtown</td>\n",
       "      <td>60601, 60602, 60603, 60604, 60605, 60606, 6060...</td>\n",
       "    </tr>\n",
       "  </tbody>\n",
       "</table>\n",
       "</div>"
      ],
      "text/plain": [
       "  city_district                                                zip\n",
       "0      Downtown                                              60611\n",
       "1      Downtown                                              60605\n",
       "2      Downtown                                              60605\n",
       "3      Downtown                                       60610, 60611\n",
       "4      Downtown  60601, 60602, 60603, 60604, 60605, 60606, 6060..."
      ]
     },
     "execution_count": 589,
     "metadata": {},
     "output_type": "execute_result"
    }
   ],
   "source": [
    "df.head()"
   ]
  },
  {
   "cell_type": "markdown",
   "metadata": {},
   "source": [
    "Let's group Chicago zip codes by city districts:"
   ]
  },
  {
   "cell_type": "code",
   "execution_count": 591,
   "metadata": {},
   "outputs": [],
   "source": [
    "df = df.groupby(['city_district'])['zip'].apply(', '.join).reset_index()"
   ]
  },
  {
   "cell_type": "code",
   "execution_count": 592,
   "metadata": {},
   "outputs": [
    {
     "data": {
      "text/html": [
       "<div>\n",
       "<style scoped>\n",
       "    .dataframe tbody tr th:only-of-type {\n",
       "        vertical-align: middle;\n",
       "    }\n",
       "\n",
       "    .dataframe tbody tr th {\n",
       "        vertical-align: top;\n",
       "    }\n",
       "\n",
       "    .dataframe thead th {\n",
       "        text-align: right;\n",
       "    }\n",
       "</style>\n",
       "<table border=\"1\" class=\"dataframe\">\n",
       "  <thead>\n",
       "    <tr style=\"text-align: right;\">\n",
       "      <th></th>\n",
       "      <th>city_district</th>\n",
       "      <th>zip</th>\n",
       "    </tr>\n",
       "  </thead>\n",
       "  <tbody>\n",
       "    <tr>\n",
       "      <th>0</th>\n",
       "      <td>Downtown</td>\n",
       "      <td>60611, 60605, 60605, 60610, 60611, 60601, 6060...</td>\n",
       "    </tr>\n",
       "    <tr>\n",
       "      <th>1</th>\n",
       "      <td>Far North Side</td>\n",
       "      <td>60640, 60625, 60613, 60640, 60613, 60640, 6064...</td>\n",
       "    </tr>\n",
       "    <tr>\n",
       "      <th>2</th>\n",
       "      <td>North Shore</td>\n",
       "      <td>60015, 60015, 60201, 60202, 60203, 60204, 6020...</td>\n",
       "    </tr>\n",
       "    <tr>\n",
       "      <th>3</th>\n",
       "      <td>North Side</td>\n",
       "      <td>60613, 60657, 60613, 60657, 60614, 60622, 6064...</td>\n",
       "    </tr>\n",
       "    <tr>\n",
       "      <th>4</th>\n",
       "      <td>Northwest Side</td>\n",
       "      <td>60625, 60618, 60639, 60641, 60630, 60618, 6063...</td>\n",
       "    </tr>\n",
       "    <tr>\n",
       "      <th>5</th>\n",
       "      <td>South Side</td>\n",
       "      <td>60609, 60620, 60643, 60655, 60608, 60609, 6061...</td>\n",
       "    </tr>\n",
       "    <tr>\n",
       "      <th>6</th>\n",
       "      <td>Western Suburbs</td>\n",
       "      <td>60126, 60502, 60503, 60504, 60505, 60506, 6050...</td>\n",
       "    </tr>\n",
       "  </tbody>\n",
       "</table>\n",
       "</div>"
      ],
      "text/plain": [
       "     city_district                                                zip\n",
       "0         Downtown  60611, 60605, 60605, 60610, 60611, 60601, 6060...\n",
       "1   Far North Side  60640, 60625, 60613, 60640, 60613, 60640, 6064...\n",
       "2      North Shore  60015, 60015, 60201, 60202, 60203, 60204, 6020...\n",
       "3       North Side  60613, 60657, 60613, 60657, 60614, 60622, 6064...\n",
       "4   Northwest Side  60625, 60618, 60639, 60641, 60630, 60618, 6063...\n",
       "5       South Side  60609, 60620, 60643, 60655, 60608, 60609, 6061...\n",
       "6  Western Suburbs  60126, 60502, 60503, 60504, 60505, 60506, 6050..."
      ]
     },
     "execution_count": 592,
     "metadata": {},
     "output_type": "execute_result"
    }
   ],
   "source": [
    "df"
   ]
  },
  {
   "cell_type": "markdown",
   "metadata": {},
   "source": [
    "The things are a bit complicated when the city of LA is concerned. I did not find a web page where all the city's districts neighborhoods and zip codes were in one place, so I have to compile my own table from different sources. Let's first load a csv file with neighborhoods and districts. Later we'll add there corresponding zip codes."
   ]
  },
  {
   "cell_type": "code",
   "execution_count": 14,
   "metadata": {},
   "outputs": [],
   "source": [
    "la = pd.read_csv('la.csv', delimiter=',')"
   ]
  },
  {
   "cell_type": "code",
   "execution_count": 15,
   "metadata": {},
   "outputs": [
    {
     "data": {
      "text/html": [
       "<div>\n",
       "<style scoped>\n",
       "    .dataframe tbody tr th:only-of-type {\n",
       "        vertical-align: middle;\n",
       "    }\n",
       "\n",
       "    .dataframe tbody tr th {\n",
       "        vertical-align: top;\n",
       "    }\n",
       "\n",
       "    .dataframe thead th {\n",
       "        text-align: right;\n",
       "    }\n",
       "</style>\n",
       "<table border=\"1\" class=\"dataframe\">\n",
       "  <thead>\n",
       "    <tr style=\"text-align: right;\">\n",
       "      <th></th>\n",
       "      <th>name</th>\n",
       "      <th>city_district</th>\n",
       "    </tr>\n",
       "  </thead>\n",
       "  <tbody>\n",
       "    <tr>\n",
       "      <th>0</th>\n",
       "      <td>Bunker Hill</td>\n",
       "      <td>Downtown Los Angeles</td>\n",
       "    </tr>\n",
       "    <tr>\n",
       "      <th>1</th>\n",
       "      <td>Chinatown</td>\n",
       "      <td>Downtown Los Angeles</td>\n",
       "    </tr>\n",
       "    <tr>\n",
       "      <th>2</th>\n",
       "      <td>Civic Center</td>\n",
       "      <td>Downtown Los Angeles</td>\n",
       "    </tr>\n",
       "    <tr>\n",
       "      <th>3</th>\n",
       "      <td>Fashion District</td>\n",
       "      <td>Downtown Los Angeles</td>\n",
       "    </tr>\n",
       "    <tr>\n",
       "      <th>4</th>\n",
       "      <td>Financial District</td>\n",
       "      <td>Downtown Los Angeles</td>\n",
       "    </tr>\n",
       "  </tbody>\n",
       "</table>\n",
       "</div>"
      ],
      "text/plain": [
       "                  name          city_district\n",
       "0         Bunker Hill   Downtown Los Angeles \n",
       "1           Chinatown   Downtown Los Angeles \n",
       "2        Civic Center   Downtown Los Angeles \n",
       "3    Fashion District   Downtown Los Angeles \n",
       "4  Financial District   Downtown Los Angeles "
      ]
     },
     "execution_count": 15,
     "metadata": {},
     "output_type": "execute_result"
    }
   ],
   "source": [
    "la.head()"
   ]
  },
  {
   "cell_type": "code",
   "execution_count": 16,
   "metadata": {},
   "outputs": [],
   "source": [
    "la['name'] = la.name.apply(lambda x: x.strip())"
   ]
  },
  {
   "cell_type": "markdown",
   "metadata": {},
   "source": [
    "Let's fetch the table with LA county cities/communities and and their zip codes. "
   ]
  },
  {
   "cell_type": "code",
   "execution_count": 17,
   "metadata": {},
   "outputs": [],
   "source": [
    "url = 'http://www.laalmanac.com/communications/cm02_communities.php'\n",
    "raw = requests.get(url).text\n",
    "table = BeautifulSoup(raw, 'html.parser').find('table')"
   ]
  },
  {
   "cell_type": "code",
   "execution_count": 18,
   "metadata": {},
   "outputs": [],
   "source": [
    "la2 = pd.read_html(str(table))[0]"
   ]
  },
  {
   "cell_type": "code",
   "execution_count": 19,
   "metadata": {},
   "outputs": [
    {
     "data": {
      "text/html": [
       "<div>\n",
       "<style scoped>\n",
       "    .dataframe tbody tr th:only-of-type {\n",
       "        vertical-align: middle;\n",
       "    }\n",
       "\n",
       "    .dataframe tbody tr th {\n",
       "        vertical-align: top;\n",
       "    }\n",
       "\n",
       "    .dataframe thead th {\n",
       "        text-align: right;\n",
       "    }\n",
       "</style>\n",
       "<table border=\"1\" class=\"dataframe\">\n",
       "  <thead>\n",
       "    <tr style=\"text-align: right;\">\n",
       "      <th></th>\n",
       "      <th>City/Community</th>\n",
       "      <th>Zip Code(s)</th>\n",
       "    </tr>\n",
       "  </thead>\n",
       "  <tbody>\n",
       "    <tr>\n",
       "      <th>4</th>\n",
       "      <td>Alhambra</td>\n",
       "      <td>91801, 91803</td>\n",
       "    </tr>\n",
       "    <tr>\n",
       "      <th>334</th>\n",
       "      <td>Los Angeles (Terminal Island)</td>\n",
       "      <td>90731</td>\n",
       "    </tr>\n",
       "    <tr>\n",
       "      <th>63</th>\n",
       "      <td>Carson</td>\n",
       "      <td>90745, 90746, 90810</td>\n",
       "    </tr>\n",
       "    <tr>\n",
       "      <th>218</th>\n",
       "      <td>Long Beach (AARP)</td>\n",
       "      <td>90847</td>\n",
       "    </tr>\n",
       "    <tr>\n",
       "      <th>412</th>\n",
       "      <td>Montebello</td>\n",
       "      <td>90640</td>\n",
       "    </tr>\n",
       "    <tr>\n",
       "      <th>126</th>\n",
       "      <td>Echo Park (Los Angeles)</td>\n",
       "      <td>90026</td>\n",
       "    </tr>\n",
       "    <tr>\n",
       "      <th>339</th>\n",
       "      <td>Los Angeles (Tujunga)</td>\n",
       "      <td>91042</td>\n",
       "    </tr>\n",
       "    <tr>\n",
       "      <th>571</th>\n",
       "      <td>Two Harbors, Santa Catalina Island (PO Boxes)</td>\n",
       "      <td>90704</td>\n",
       "    </tr>\n",
       "    <tr>\n",
       "      <th>185</th>\n",
       "      <td>La Cañada Flintridge</td>\n",
       "      <td>91011</td>\n",
       "    </tr>\n",
       "    <tr>\n",
       "      <th>142</th>\n",
       "      <td>Fuller Theological Seminary (Pasadena)</td>\n",
       "      <td>91182</td>\n",
       "    </tr>\n",
       "  </tbody>\n",
       "</table>\n",
       "</div>"
      ],
      "text/plain": [
       "                                    City/Community          Zip Code(s)\n",
       "4                                         Alhambra         91801, 91803\n",
       "334                  Los Angeles (Terminal Island)                90731\n",
       "63                                          Carson  90745, 90746, 90810\n",
       "218                              Long Beach (AARP)                90847\n",
       "412                                     Montebello                90640\n",
       "126                        Echo Park (Los Angeles)                90026\n",
       "339                          Los Angeles (Tujunga)                91042\n",
       "571  Two Harbors, Santa Catalina Island (PO Boxes)                90704\n",
       "185                           La Cañada Flintridge                91011\n",
       "142         Fuller Theological Seminary (Pasadena)                91182"
      ]
     },
     "execution_count": 19,
     "metadata": {},
     "output_type": "execute_result"
    }
   ],
   "source": [
    "la2.sample(10)"
   ]
  },
  {
   "cell_type": "code",
   "execution_count": 20,
   "metadata": {},
   "outputs": [],
   "source": [
    "la2.columns = ['name', 'zip']"
   ]
  },
  {
   "cell_type": "markdown",
   "metadata": {},
   "source": [
    "First we need to extract the data related only to the city of LA:"
   ]
  },
  {
   "cell_type": "code",
   "execution_count": 21,
   "metadata": {},
   "outputs": [],
   "source": [
    "la2 = la2[la2.name.str.contains('\\(Los Angeles\\)')]"
   ]
  },
  {
   "cell_type": "code",
   "execution_count": 22,
   "metadata": {},
   "outputs": [
    {
     "data": {
      "text/html": [
       "<div>\n",
       "<style scoped>\n",
       "    .dataframe tbody tr th:only-of-type {\n",
       "        vertical-align: middle;\n",
       "    }\n",
       "\n",
       "    .dataframe tbody tr th {\n",
       "        vertical-align: top;\n",
       "    }\n",
       "\n",
       "    .dataframe thead th {\n",
       "        text-align: right;\n",
       "    }\n",
       "</style>\n",
       "<table border=\"1\" class=\"dataframe\">\n",
       "  <thead>\n",
       "    <tr style=\"text-align: right;\">\n",
       "      <th></th>\n",
       "      <th>name</th>\n",
       "      <th>zip</th>\n",
       "    </tr>\n",
       "  </thead>\n",
       "  <tbody>\n",
       "    <tr>\n",
       "      <th>640</th>\n",
       "      <td>Woodland Hills (Los Angeles)</td>\n",
       "      <td>91364, 91367</td>\n",
       "    </tr>\n",
       "  </tbody>\n",
       "</table>\n",
       "</div>"
      ],
      "text/plain": [
       "                             name           zip\n",
       "640  Woodland Hills (Los Angeles)  91364, 91367"
      ]
     },
     "execution_count": 22,
     "metadata": {},
     "output_type": "execute_result"
    }
   ],
   "source": [
    "la2.sample()"
   ]
  },
  {
   "cell_type": "code",
   "execution_count": 23,
   "metadata": {},
   "outputs": [],
   "source": [
    "# getting rid of the text in parentheses:\n",
    "la2['name'] = la2.name.str.split('(').str.get(0)"
   ]
  },
  {
   "cell_type": "code",
   "execution_count": 24,
   "metadata": {},
   "outputs": [
    {
     "data": {
      "text/html": [
       "<div>\n",
       "<style scoped>\n",
       "    .dataframe tbody tr th:only-of-type {\n",
       "        vertical-align: middle;\n",
       "    }\n",
       "\n",
       "    .dataframe tbody tr th {\n",
       "        vertical-align: top;\n",
       "    }\n",
       "\n",
       "    .dataframe thead th {\n",
       "        text-align: right;\n",
       "    }\n",
       "</style>\n",
       "<table border=\"1\" class=\"dataframe\">\n",
       "  <thead>\n",
       "    <tr style=\"text-align: right;\">\n",
       "      <th></th>\n",
       "      <th>name</th>\n",
       "      <th>zip</th>\n",
       "    </tr>\n",
       "  </thead>\n",
       "  <tbody>\n",
       "    <tr>\n",
       "      <th>421</th>\n",
       "      <td>Mt. Washington</td>\n",
       "      <td>90065</td>\n",
       "    </tr>\n",
       "    <tr>\n",
       "      <th>553</th>\n",
       "      <td>Sylmar</td>\n",
       "      <td>91392</td>\n",
       "    </tr>\n",
       "    <tr>\n",
       "      <th>175</th>\n",
       "      <td>Hyde Park</td>\n",
       "      <td>90043</td>\n",
       "    </tr>\n",
       "    <tr>\n",
       "      <th>613</th>\n",
       "      <td>West Los Angeles</td>\n",
       "      <td>90025</td>\n",
       "    </tr>\n",
       "    <tr>\n",
       "      <th>632</th>\n",
       "      <td>Wilshire Center</td>\n",
       "      <td>90070, 90075, 90076</td>\n",
       "    </tr>\n",
       "  </tbody>\n",
       "</table>\n",
       "</div>"
      ],
      "text/plain": [
       "                  name                  zip\n",
       "421    Mt. Washington                 90065\n",
       "553            Sylmar                 91392\n",
       "175         Hyde Park                 90043\n",
       "613  West Los Angeles                 90025\n",
       "632   Wilshire Center   90070, 90075, 90076"
      ]
     },
     "execution_count": 24,
     "metadata": {},
     "output_type": "execute_result"
    }
   ],
   "source": [
    "la2.sample(5)"
   ]
  },
  {
   "cell_type": "code",
   "execution_count": 25,
   "metadata": {},
   "outputs": [
    {
     "data": {
      "text/html": [
       "<div>\n",
       "<style scoped>\n",
       "    .dataframe tbody tr th:only-of-type {\n",
       "        vertical-align: middle;\n",
       "    }\n",
       "\n",
       "    .dataframe tbody tr th {\n",
       "        vertical-align: top;\n",
       "    }\n",
       "\n",
       "    .dataframe thead th {\n",
       "        text-align: right;\n",
       "    }\n",
       "</style>\n",
       "<table border=\"1\" class=\"dataframe\">\n",
       "  <thead>\n",
       "    <tr style=\"text-align: right;\">\n",
       "      <th></th>\n",
       "      <th>name</th>\n",
       "      <th>zip</th>\n",
       "    </tr>\n",
       "  </thead>\n",
       "  <tbody>\n",
       "    <tr>\n",
       "      <th>25</th>\n",
       "      <td>Bel Air Estates, Beverly Glen</td>\n",
       "      <td>90077</td>\n",
       "    </tr>\n",
       "    <tr>\n",
       "      <th>36</th>\n",
       "      <td>Beverly Glen, Bel Air Estates</td>\n",
       "      <td>90077</td>\n",
       "    </tr>\n",
       "    <tr>\n",
       "      <th>132</th>\n",
       "      <td>El Sereno, Monterey Hills, University Hills</td>\n",
       "      <td>90032</td>\n",
       "    </tr>\n",
       "    <tr>\n",
       "      <th>141</th>\n",
       "      <td>Florence-Graham, South Los Angeles</td>\n",
       "      <td>90001</td>\n",
       "    </tr>\n",
       "    <tr>\n",
       "      <th>161</th>\n",
       "      <td>Harbor Gateway/Shoestring</td>\n",
       "      <td>90061, 90247, 90248, 90501, 90502</td>\n",
       "    </tr>\n",
       "    <tr>\n",
       "      <th>211</th>\n",
       "      <td>Lincoln Heights, Montecito Hieghts</td>\n",
       "      <td>90031</td>\n",
       "    </tr>\n",
       "    <tr>\n",
       "      <th>385</th>\n",
       "      <td>Los Angeles International Airport, Westchester</td>\n",
       "      <td>90045</td>\n",
       "    </tr>\n",
       "    <tr>\n",
       "      <th>413</th>\n",
       "      <td>Montecito Heights, Lincoln Heights</td>\n",
       "      <td>90031</td>\n",
       "    </tr>\n",
       "    <tr>\n",
       "      <th>414</th>\n",
       "      <td>Monterey Hills, El Sereno, University Hills</td>\n",
       "      <td>90032</td>\n",
       "    </tr>\n",
       "    <tr>\n",
       "      <th>433</th>\n",
       "      <td>Northridge/JB Lansing Co</td>\n",
       "      <td>91329</td>\n",
       "    </tr>\n",
       "    <tr>\n",
       "      <th>437</th>\n",
       "      <td>Pacific Highlands, Pacific Palisades</td>\n",
       "      <td>90272</td>\n",
       "    </tr>\n",
       "    <tr>\n",
       "      <th>438</th>\n",
       "      <td>Pacific Palisades, Pacific Highlands</td>\n",
       "      <td>90272</td>\n",
       "    </tr>\n",
       "    <tr>\n",
       "      <th>537</th>\n",
       "      <td>South Los Angeles/Broadway Manchester</td>\n",
       "      <td>90003</td>\n",
       "    </tr>\n",
       "    <tr>\n",
       "      <th>573</th>\n",
       "      <td>University Hills, El Sereno, Monterey Hills</td>\n",
       "      <td>90032</td>\n",
       "    </tr>\n",
       "    <tr>\n",
       "      <th>587</th>\n",
       "      <td>Van Nuys/Blue Cross of Southern California</td>\n",
       "      <td>91470</td>\n",
       "    </tr>\n",
       "    <tr>\n",
       "      <th>588</th>\n",
       "      <td>Van Nuys/Business Reply</td>\n",
       "      <td>91499</td>\n",
       "    </tr>\n",
       "    <tr>\n",
       "      <th>589</th>\n",
       "      <td>Van Nuys/US Purchasing Corp</td>\n",
       "      <td>91496</td>\n",
       "    </tr>\n",
       "    <tr>\n",
       "      <th>590</th>\n",
       "      <td>Van Nuys/US Purchasing Exchange</td>\n",
       "      <td>91495</td>\n",
       "    </tr>\n",
       "    <tr>\n",
       "      <th>618</th>\n",
       "      <td>Westchester, Los Angeles International Airport</td>\n",
       "      <td>90045</td>\n",
       "    </tr>\n",
       "    <tr>\n",
       "      <th>642</th>\n",
       "      <td>Woodland Hills/Pierce College</td>\n",
       "      <td>91371</td>\n",
       "    </tr>\n",
       "  </tbody>\n",
       "</table>\n",
       "</div>"
      ],
      "text/plain": [
       "                                                name  \\\n",
       "25                    Bel Air Estates, Beverly Glen    \n",
       "36                    Beverly Glen, Bel Air Estates    \n",
       "132     El Sereno, Monterey Hills, University Hills    \n",
       "141              Florence-Graham, South Los Angeles    \n",
       "161                       Harbor Gateway/Shoestring    \n",
       "211              Lincoln Heights, Montecito Hieghts    \n",
       "385  Los Angeles International Airport, Westchester    \n",
       "413              Montecito Heights, Lincoln Heights    \n",
       "414     Monterey Hills, El Sereno, University Hills    \n",
       "433                        Northridge/JB Lansing Co    \n",
       "437            Pacific Highlands, Pacific Palisades    \n",
       "438            Pacific Palisades, Pacific Highlands    \n",
       "537           South Los Angeles/Broadway Manchester    \n",
       "573     University Hills, El Sereno, Monterey Hills    \n",
       "587      Van Nuys/Blue Cross of Southern California    \n",
       "588                         Van Nuys/Business Reply    \n",
       "589                     Van Nuys/US Purchasing Corp    \n",
       "590                 Van Nuys/US Purchasing Exchange    \n",
       "618  Westchester, Los Angeles International Airport    \n",
       "642                   Woodland Hills/Pierce College    \n",
       "\n",
       "                                   zip  \n",
       "25                               90077  \n",
       "36                               90077  \n",
       "132                              90032  \n",
       "141                              90001  \n",
       "161  90061, 90247, 90248, 90501, 90502  \n",
       "211                              90031  \n",
       "385                              90045  \n",
       "413                              90031  \n",
       "414                              90032  \n",
       "433                              91329  \n",
       "437                              90272  \n",
       "438                              90272  \n",
       "537                              90003  \n",
       "573                              90032  \n",
       "587                              91470  \n",
       "588                              91499  \n",
       "589                              91496  \n",
       "590                              91495  \n",
       "618                              90045  \n",
       "642                              91371  "
      ]
     },
     "execution_count": 25,
     "metadata": {},
     "output_type": "execute_result"
    }
   ],
   "source": [
    "la2[la2.name.str.contains('/') | la2.name.str.contains(',')]"
   ]
  },
  {
   "cell_type": "markdown",
   "metadata": {},
   "source": [
    "If the district name contains slash, everything after the slash is just a refinement that can be omitted:"
   ]
  },
  {
   "cell_type": "code",
   "execution_count": 26,
   "metadata": {},
   "outputs": [],
   "source": [
    "for i in la2[la2.name.str.contains('/', na=False)].index:\n",
    "    la2.at[i, 'name'] = la2.at[i, 'name'].split('/')[0]"
   ]
  },
  {
   "cell_type": "markdown",
   "metadata": {},
   "source": [
    "In the case of comma presence in `name` column, we need to divide it into separate entries with the same `zip` number:"
   ]
  },
  {
   "cell_type": "code",
   "execution_count": 27,
   "metadata": {},
   "outputs": [],
   "source": [
    "tmp = pd.DataFrame(columns=['name', 'zip'])\n",
    "for i in la2.index:\n",
    "    for j in la2.name[i].split(','):\n",
    "        tmp.loc[len(tmp)] = [j.strip(), la2.zip[i]]"
   ]
  },
  {
   "cell_type": "code",
   "execution_count": 28,
   "metadata": {},
   "outputs": [],
   "source": [
    "tmp1 = pd.DataFrame(columns=['name', 'zip'])\n",
    "for i in tmp.index:\n",
    "    for j in tmp.zip[i].split(','):\n",
    "        tmp1.loc[len(tmp1)] = [tmp.name[i], j.strip()]"
   ]
  },
  {
   "cell_type": "code",
   "execution_count": 29,
   "metadata": {},
   "outputs": [],
   "source": [
    "tmp1.drop_duplicates(inplace=True)"
   ]
  },
  {
   "cell_type": "code",
   "execution_count": null,
   "metadata": {},
   "outputs": [],
   "source": [
    "# merging the tables...\n",
    "la_final = pd.merge(left=tmp1, right=la, on='name', how='left')"
   ]
  },
  {
   "cell_type": "code",
   "execution_count": 366,
   "metadata": {},
   "outputs": [
    {
     "data": {
      "text/html": [
       "<div>\n",
       "<style scoped>\n",
       "    .dataframe tbody tr th:only-of-type {\n",
       "        vertical-align: middle;\n",
       "    }\n",
       "\n",
       "    .dataframe tbody tr th {\n",
       "        vertical-align: top;\n",
       "    }\n",
       "\n",
       "    .dataframe thead th {\n",
       "        text-align: right;\n",
       "    }\n",
       "</style>\n",
       "<table border=\"1\" class=\"dataframe\">\n",
       "  <thead>\n",
       "    <tr style=\"text-align: right;\">\n",
       "      <th></th>\n",
       "      <th>city_district</th>\n",
       "      <th>zip</th>\n",
       "    </tr>\n",
       "  </thead>\n",
       "  <tbody>\n",
       "    <tr>\n",
       "      <th>0</th>\n",
       "      <td>Downtown Los Angeles</td>\n",
       "      <td>90012, 90030, 90086, 90087, 90012, 90014, 9007...</td>\n",
       "    </tr>\n",
       "    <tr>\n",
       "      <th>1</th>\n",
       "      <td>East Los Angeles</td>\n",
       "      <td>90039, 90033, 90063, 90065, 90041, 90032, 9003...</td>\n",
       "    </tr>\n",
       "    <tr>\n",
       "      <th>2</th>\n",
       "      <td>Greater Hollywood</td>\n",
       "      <td>90029, 90027, 90028, 90038, 90046, 90068, 9006...</td>\n",
       "    </tr>\n",
       "    <tr>\n",
       "      <th>3</th>\n",
       "      <td>Harbor Area</td>\n",
       "      <td>90710, 90061, 90247, 90248, 90501, 90502, 9073...</td>\n",
       "    </tr>\n",
       "    <tr>\n",
       "      <th>4</th>\n",
       "      <td>Mid-City Los Angeles</td>\n",
       "      <td>90019, 90004, 90005, 90020, 90006, 90005, 9000...</td>\n",
       "    </tr>\n",
       "    <tr>\n",
       "      <th>5</th>\n",
       "      <td>North West Los Angeles</td>\n",
       "      <td>90077, 90049, 90067, 90064, 90272, 90064, 9002...</td>\n",
       "    </tr>\n",
       "    <tr>\n",
       "      <th>6</th>\n",
       "      <td>Rampart Area</td>\n",
       "      <td>90026, 90026, 90039, 90004, 90057</td>\n",
       "    </tr>\n",
       "    <tr>\n",
       "      <th>7</th>\n",
       "      <td>San Fernando Valley</td>\n",
       "      <td>91331, 91303, 91304, 91305, 91308, 91309, 9131...</td>\n",
       "    </tr>\n",
       "    <tr>\n",
       "      <th>8</th>\n",
       "      <td>South East Los Angeles</td>\n",
       "      <td>90002, 90003, 90007, 90011, 90037, 90058</td>\n",
       "    </tr>\n",
       "    <tr>\n",
       "      <th>9</th>\n",
       "      <td>South Los Angeles</td>\n",
       "      <td>90008, 90008, 90001, 90043, 90018, 90008, 9001...</td>\n",
       "    </tr>\n",
       "    <tr>\n",
       "      <th>10</th>\n",
       "      <td>South West Los Angeles</td>\n",
       "      <td>90045, 90066, 90034, 90293, 90296, 90094, 9029...</td>\n",
       "    </tr>\n",
       "  </tbody>\n",
       "</table>\n",
       "</div>"
      ],
      "text/plain": [
       "             city_district                                                zip\n",
       "0     Downtown Los Angeles  90012, 90030, 90086, 90087, 90012, 90014, 9007...\n",
       "1         East Los Angeles  90039, 90033, 90063, 90065, 90041, 90032, 9003...\n",
       "2        Greater Hollywood  90029, 90027, 90028, 90038, 90046, 90068, 9006...\n",
       "3              Harbor Area  90710, 90061, 90247, 90248, 90501, 90502, 9073...\n",
       "4     Mid-City Los Angeles  90019, 90004, 90005, 90020, 90006, 90005, 9000...\n",
       "5   North West Los Angeles  90077, 90049, 90067, 90064, 90272, 90064, 9002...\n",
       "6             Rampart Area                  90026, 90026, 90039, 90004, 90057\n",
       "7      San Fernando Valley  91331, 91303, 91304, 91305, 91308, 91309, 9131...\n",
       "8   South East Los Angeles           90002, 90003, 90007, 90011, 90037, 90058\n",
       "9        South Los Angeles  90008, 90008, 90001, 90043, 90018, 90008, 9001...\n",
       "10  South West Los Angeles  90045, 90066, 90034, 90293, 90296, 90094, 9029..."
      ]
     },
     "execution_count": 366,
     "metadata": {},
     "output_type": "execute_result"
    }
   ],
   "source": [
    "la_final.groupby(['city_district'])['zip'].apply(', '.join).reset_index()"
   ]
  },
  {
   "cell_type": "code",
   "execution_count": 548,
   "metadata": {},
   "outputs": [],
   "source": [
    "# backing up...\n",
    "la_final.groupby(['city_district'])['zip'].apply(', '.join).reset_index().to_csv('la_grouped.csv', index=False)"
   ]
  },
  {
   "cell_type": "code",
   "execution_count": 546,
   "metadata": {},
   "outputs": [],
   "source": [
    "la_grouped = la_final.groupby(['city_district'])['zip'].apply(', '.join).reset_index()"
   ]
  },
  {
   "cell_type": "code",
   "execution_count": 556,
   "metadata": {},
   "outputs": [
    {
     "data": {
      "text/html": [
       "<div>\n",
       "<style scoped>\n",
       "    .dataframe tbody tr th:only-of-type {\n",
       "        vertical-align: middle;\n",
       "    }\n",
       "\n",
       "    .dataframe tbody tr th {\n",
       "        vertical-align: top;\n",
       "    }\n",
       "\n",
       "    .dataframe thead th {\n",
       "        text-align: right;\n",
       "    }\n",
       "</style>\n",
       "<table border=\"1\" class=\"dataframe\">\n",
       "  <thead>\n",
       "    <tr style=\"text-align: right;\">\n",
       "      <th></th>\n",
       "      <th>city_district</th>\n",
       "      <th>zip</th>\n",
       "    </tr>\n",
       "  </thead>\n",
       "  <tbody>\n",
       "    <tr>\n",
       "      <th>0</th>\n",
       "      <td>Downtown Los Angeles</td>\n",
       "      <td>90012, 90030, 90086, 90087, 90012, 90014, 9007...</td>\n",
       "    </tr>\n",
       "    <tr>\n",
       "      <th>1</th>\n",
       "      <td>East Los Angeles</td>\n",
       "      <td>90039, 90033, 90063, 90065, 90041, 90032, 9003...</td>\n",
       "    </tr>\n",
       "    <tr>\n",
       "      <th>2</th>\n",
       "      <td>Greater Hollywood</td>\n",
       "      <td>90029, 90027, 90028, 90038, 90046, 90068, 9006...</td>\n",
       "    </tr>\n",
       "    <tr>\n",
       "      <th>3</th>\n",
       "      <td>Harbor Area</td>\n",
       "      <td>90710, 90061, 90247, 90248, 90501, 90502, 9073...</td>\n",
       "    </tr>\n",
       "    <tr>\n",
       "      <th>4</th>\n",
       "      <td>Mid-City Los Angeles</td>\n",
       "      <td>90019, 90004, 90005, 90020, 90006, 90005, 9000...</td>\n",
       "    </tr>\n",
       "    <tr>\n",
       "      <th>5</th>\n",
       "      <td>North West Los Angeles</td>\n",
       "      <td>90077, 90049, 90067, 90064, 90272, 90064, 9002...</td>\n",
       "    </tr>\n",
       "    <tr>\n",
       "      <th>6</th>\n",
       "      <td>Rampart Area</td>\n",
       "      <td>90026, 90026, 90039, 90004, 90057</td>\n",
       "    </tr>\n",
       "    <tr>\n",
       "      <th>7</th>\n",
       "      <td>San Fernando Valley</td>\n",
       "      <td>91331, 91303, 91304, 91305, 91308, 91309, 9131...</td>\n",
       "    </tr>\n",
       "    <tr>\n",
       "      <th>8</th>\n",
       "      <td>South East Los Angeles</td>\n",
       "      <td>90002, 90003, 90007, 90011, 90037, 90058</td>\n",
       "    </tr>\n",
       "    <tr>\n",
       "      <th>9</th>\n",
       "      <td>South Los Angeles</td>\n",
       "      <td>90008, 90008, 90001, 90043, 90018, 90008, 9001...</td>\n",
       "    </tr>\n",
       "    <tr>\n",
       "      <th>10</th>\n",
       "      <td>South West Los Angeles</td>\n",
       "      <td>90045, 90066, 90034, 90293, 90296, 90094, 9029...</td>\n",
       "    </tr>\n",
       "    <tr>\n",
       "      <th>11</th>\n",
       "      <td>Westside</td>\n",
       "      <td>90292, 90095, 90089, 90035</td>\n",
       "    </tr>\n",
       "  </tbody>\n",
       "</table>\n",
       "</div>"
      ],
      "text/plain": [
       "             city_district                                                zip\n",
       "0     Downtown Los Angeles  90012, 90030, 90086, 90087, 90012, 90014, 9007...\n",
       "1         East Los Angeles  90039, 90033, 90063, 90065, 90041, 90032, 9003...\n",
       "2        Greater Hollywood  90029, 90027, 90028, 90038, 90046, 90068, 9006...\n",
       "3              Harbor Area  90710, 90061, 90247, 90248, 90501, 90502, 9073...\n",
       "4     Mid-City Los Angeles  90019, 90004, 90005, 90020, 90006, 90005, 9000...\n",
       "5   North West Los Angeles  90077, 90049, 90067, 90064, 90272, 90064, 9002...\n",
       "6             Rampart Area                  90026, 90026, 90039, 90004, 90057\n",
       "7      San Fernando Valley  91331, 91303, 91304, 91305, 91308, 91309, 9131...\n",
       "8   South East Los Angeles           90002, 90003, 90007, 90011, 90037, 90058\n",
       "9        South Los Angeles  90008, 90008, 90001, 90043, 90018, 90008, 9001...\n",
       "10  South West Los Angeles  90045, 90066, 90034, 90293, 90296, 90094, 9029...\n",
       "11                Westside                         90292, 90095, 90089, 90035"
      ]
     },
     "execution_count": 556,
     "metadata": {},
     "output_type": "execute_result"
    }
   ],
   "source": [
    "la_grouped"
   ]
  },
  {
   "cell_type": "code",
   "execution_count": 593,
   "metadata": {},
   "outputs": [],
   "source": [
    "df = df.append(la_grouped)"
   ]
  },
  {
   "cell_type": "code",
   "execution_count": 594,
   "metadata": {},
   "outputs": [
    {
     "data": {
      "text/html": [
       "<div>\n",
       "<style scoped>\n",
       "    .dataframe tbody tr th:only-of-type {\n",
       "        vertical-align: middle;\n",
       "    }\n",
       "\n",
       "    .dataframe tbody tr th {\n",
       "        vertical-align: top;\n",
       "    }\n",
       "\n",
       "    .dataframe thead th {\n",
       "        text-align: right;\n",
       "    }\n",
       "</style>\n",
       "<table border=\"1\" class=\"dataframe\">\n",
       "  <thead>\n",
       "    <tr style=\"text-align: right;\">\n",
       "      <th></th>\n",
       "      <th>city_district</th>\n",
       "      <th>zip</th>\n",
       "    </tr>\n",
       "  </thead>\n",
       "  <tbody>\n",
       "    <tr>\n",
       "      <th>0</th>\n",
       "      <td>Downtown</td>\n",
       "      <td>60611, 60605, 60605, 60610, 60611, 60601, 6060...</td>\n",
       "    </tr>\n",
       "    <tr>\n",
       "      <th>1</th>\n",
       "      <td>Far North Side</td>\n",
       "      <td>60640, 60625, 60613, 60640, 60613, 60640, 6064...</td>\n",
       "    </tr>\n",
       "    <tr>\n",
       "      <th>2</th>\n",
       "      <td>North Shore</td>\n",
       "      <td>60015, 60015, 60201, 60202, 60203, 60204, 6020...</td>\n",
       "    </tr>\n",
       "    <tr>\n",
       "      <th>3</th>\n",
       "      <td>North Side</td>\n",
       "      <td>60613, 60657, 60613, 60657, 60614, 60622, 6064...</td>\n",
       "    </tr>\n",
       "    <tr>\n",
       "      <th>4</th>\n",
       "      <td>Northwest Side</td>\n",
       "      <td>60625, 60618, 60639, 60641, 60630, 60618, 6063...</td>\n",
       "    </tr>\n",
       "    <tr>\n",
       "      <th>5</th>\n",
       "      <td>South Side</td>\n",
       "      <td>60609, 60620, 60643, 60655, 60608, 60609, 6061...</td>\n",
       "    </tr>\n",
       "    <tr>\n",
       "      <th>6</th>\n",
       "      <td>Western Suburbs</td>\n",
       "      <td>60126, 60502, 60503, 60504, 60505, 60506, 6050...</td>\n",
       "    </tr>\n",
       "    <tr>\n",
       "      <th>0</th>\n",
       "      <td>Downtown Los Angeles</td>\n",
       "      <td>90012, 90030, 90086, 90087, 90012, 90014, 9007...</td>\n",
       "    </tr>\n",
       "    <tr>\n",
       "      <th>1</th>\n",
       "      <td>East Los Angeles</td>\n",
       "      <td>90039, 90033, 90063, 90065, 90041, 90032, 9003...</td>\n",
       "    </tr>\n",
       "    <tr>\n",
       "      <th>2</th>\n",
       "      <td>Greater Hollywood</td>\n",
       "      <td>90029, 90027, 90028, 90038, 90046, 90068, 9006...</td>\n",
       "    </tr>\n",
       "    <tr>\n",
       "      <th>3</th>\n",
       "      <td>Harbor Area</td>\n",
       "      <td>90710, 90061, 90247, 90248, 90501, 90502, 9073...</td>\n",
       "    </tr>\n",
       "    <tr>\n",
       "      <th>4</th>\n",
       "      <td>Mid-City Los Angeles</td>\n",
       "      <td>90019, 90004, 90005, 90020, 90006, 90005, 9000...</td>\n",
       "    </tr>\n",
       "    <tr>\n",
       "      <th>5</th>\n",
       "      <td>North West Los Angeles</td>\n",
       "      <td>90077, 90049, 90067, 90064, 90272, 90064, 9002...</td>\n",
       "    </tr>\n",
       "    <tr>\n",
       "      <th>6</th>\n",
       "      <td>Rampart Area</td>\n",
       "      <td>90026, 90026, 90039, 90004, 90057</td>\n",
       "    </tr>\n",
       "    <tr>\n",
       "      <th>7</th>\n",
       "      <td>San Fernando Valley</td>\n",
       "      <td>91331, 91303, 91304, 91305, 91308, 91309, 9131...</td>\n",
       "    </tr>\n",
       "    <tr>\n",
       "      <th>8</th>\n",
       "      <td>South East Los Angeles</td>\n",
       "      <td>90002, 90003, 90007, 90011, 90037, 90058</td>\n",
       "    </tr>\n",
       "    <tr>\n",
       "      <th>9</th>\n",
       "      <td>South Los Angeles</td>\n",
       "      <td>90008, 90008, 90001, 90043, 90018, 90008, 9001...</td>\n",
       "    </tr>\n",
       "    <tr>\n",
       "      <th>10</th>\n",
       "      <td>South West Los Angeles</td>\n",
       "      <td>90045, 90066, 90034, 90293, 90296, 90094, 9029...</td>\n",
       "    </tr>\n",
       "    <tr>\n",
       "      <th>11</th>\n",
       "      <td>Westside</td>\n",
       "      <td>90292, 90095, 90089, 90035</td>\n",
       "    </tr>\n",
       "  </tbody>\n",
       "</table>\n",
       "</div>"
      ],
      "text/plain": [
       "             city_district                                                zip\n",
       "0                 Downtown  60611, 60605, 60605, 60610, 60611, 60601, 6060...\n",
       "1           Far North Side  60640, 60625, 60613, 60640, 60613, 60640, 6064...\n",
       "2              North Shore  60015, 60015, 60201, 60202, 60203, 60204, 6020...\n",
       "3               North Side  60613, 60657, 60613, 60657, 60614, 60622, 6064...\n",
       "4           Northwest Side  60625, 60618, 60639, 60641, 60630, 60618, 6063...\n",
       "5               South Side  60609, 60620, 60643, 60655, 60608, 60609, 6061...\n",
       "6          Western Suburbs  60126, 60502, 60503, 60504, 60505, 60506, 6050...\n",
       "0     Downtown Los Angeles  90012, 90030, 90086, 90087, 90012, 90014, 9007...\n",
       "1         East Los Angeles  90039, 90033, 90063, 90065, 90041, 90032, 9003...\n",
       "2        Greater Hollywood  90029, 90027, 90028, 90038, 90046, 90068, 9006...\n",
       "3              Harbor Area  90710, 90061, 90247, 90248, 90501, 90502, 9073...\n",
       "4     Mid-City Los Angeles  90019, 90004, 90005, 90020, 90006, 90005, 9000...\n",
       "5   North West Los Angeles  90077, 90049, 90067, 90064, 90272, 90064, 9002...\n",
       "6             Rampart Area                  90026, 90026, 90039, 90004, 90057\n",
       "7      San Fernando Valley  91331, 91303, 91304, 91305, 91308, 91309, 9131...\n",
       "8   South East Los Angeles           90002, 90003, 90007, 90011, 90037, 90058\n",
       "9        South Los Angeles  90008, 90008, 90001, 90043, 90018, 90008, 9001...\n",
       "10  South West Los Angeles  90045, 90066, 90034, 90293, 90296, 90094, 9029...\n",
       "11                Westside                         90292, 90095, 90089, 90035"
      ]
     },
     "execution_count": 594,
     "metadata": {},
     "output_type": "execute_result"
    }
   ],
   "source": [
    "df"
   ]
  },
  {
   "cell_type": "markdown",
   "metadata": {},
   "source": [
    "The final step here -- fetching NYC boroughs with appropriate zip code groups:"
   ]
  },
  {
   "cell_type": "code",
   "execution_count": 595,
   "metadata": {},
   "outputs": [],
   "source": [
    "url = 'https://www.health.ny.gov/statistics/cancer/registry/appendix/neighborhoods.htm'\n",
    "raw = requests.get(url).text"
   ]
  },
  {
   "cell_type": "code",
   "execution_count": 596,
   "metadata": {},
   "outputs": [],
   "source": [
    "# table = BeautifulSoup(raw, 'html.parser').find('table', {'class': 'wikitable sortable'})"
   ]
  },
  {
   "cell_type": "code",
   "execution_count": 597,
   "metadata": {},
   "outputs": [],
   "source": [
    "table = BeautifulSoup(raw, 'html.parser').find('table')"
   ]
  },
  {
   "cell_type": "code",
   "execution_count": 598,
   "metadata": {},
   "outputs": [],
   "source": [
    "ny = pd.read_html(str(table))[0]"
   ]
  },
  {
   "cell_type": "code",
   "execution_count": 600,
   "metadata": {},
   "outputs": [
    {
     "data": {
      "text/html": [
       "<div>\n",
       "<style scoped>\n",
       "    .dataframe tbody tr th:only-of-type {\n",
       "        vertical-align: middle;\n",
       "    }\n",
       "\n",
       "    .dataframe tbody tr th {\n",
       "        vertical-align: top;\n",
       "    }\n",
       "\n",
       "    .dataframe thead th {\n",
       "        text-align: right;\n",
       "    }\n",
       "</style>\n",
       "<table border=\"1\" class=\"dataframe\">\n",
       "  <thead>\n",
       "    <tr style=\"text-align: right;\">\n",
       "      <th></th>\n",
       "      <th>Borough</th>\n",
       "      <th>Neighborhood</th>\n",
       "      <th>ZIP Codes</th>\n",
       "    </tr>\n",
       "  </thead>\n",
       "  <tbody>\n",
       "    <tr>\n",
       "      <th>0</th>\n",
       "      <td>Bronx</td>\n",
       "      <td>Central Bronx</td>\n",
       "      <td>10453, 10457, 10460</td>\n",
       "    </tr>\n",
       "    <tr>\n",
       "      <th>1</th>\n",
       "      <td>Bronx</td>\n",
       "      <td>Bronx Park and Fordham</td>\n",
       "      <td>10458, 10467, 10468</td>\n",
       "    </tr>\n",
       "    <tr>\n",
       "      <th>2</th>\n",
       "      <td>Bronx</td>\n",
       "      <td>High Bridge and Morrisania</td>\n",
       "      <td>10451, 10452, 10456</td>\n",
       "    </tr>\n",
       "    <tr>\n",
       "      <th>3</th>\n",
       "      <td>Bronx</td>\n",
       "      <td>Hunts Point and Mott Haven</td>\n",
       "      <td>10454, 10455, 10459, 10474</td>\n",
       "    </tr>\n",
       "    <tr>\n",
       "      <th>4</th>\n",
       "      <td>Bronx</td>\n",
       "      <td>Kingsbridge and Riverdale</td>\n",
       "      <td>10463, 10471</td>\n",
       "    </tr>\n",
       "  </tbody>\n",
       "</table>\n",
       "</div>"
      ],
      "text/plain": [
       "  Borough                Neighborhood                   ZIP Codes\n",
       "0   Bronx               Central Bronx         10453, 10457, 10460\n",
       "1   Bronx      Bronx Park and Fordham         10458, 10467, 10468\n",
       "2   Bronx  High Bridge and Morrisania         10451, 10452, 10456\n",
       "3   Bronx  Hunts Point and Mott Haven  10454, 10455, 10459, 10474\n",
       "4   Bronx   Kingsbridge and Riverdale                10463, 10471"
      ]
     },
     "execution_count": 600,
     "metadata": {},
     "output_type": "execute_result"
    }
   ],
   "source": [
    "ny.head()"
   ]
  },
  {
   "cell_type": "markdown",
   "metadata": {},
   "source": [
    "Fortunatelly, there is nothing much to change here except removing the`neighborhood` column and grouping the zip codes by boroughs:"
   ]
  },
  {
   "cell_type": "code",
   "execution_count": 604,
   "metadata": {},
   "outputs": [],
   "source": [
    "ny.rename({'Borough':'city_district', 'ZIP Codes':'zip'}, axis=1, inplace=True)"
   ]
  },
  {
   "cell_type": "code",
   "execution_count": 606,
   "metadata": {},
   "outputs": [],
   "source": [
    "ny_final = ny.drop('Neighborhood', axis=1)"
   ]
  },
  {
   "cell_type": "code",
   "execution_count": 608,
   "metadata": {},
   "outputs": [
    {
     "data": {
      "text/html": [
       "<div>\n",
       "<style scoped>\n",
       "    .dataframe tbody tr th:only-of-type {\n",
       "        vertical-align: middle;\n",
       "    }\n",
       "\n",
       "    .dataframe tbody tr th {\n",
       "        vertical-align: top;\n",
       "    }\n",
       "\n",
       "    .dataframe thead th {\n",
       "        text-align: right;\n",
       "    }\n",
       "</style>\n",
       "<table border=\"1\" class=\"dataframe\">\n",
       "  <thead>\n",
       "    <tr style=\"text-align: right;\">\n",
       "      <th></th>\n",
       "      <th>city_district</th>\n",
       "      <th>zip</th>\n",
       "    </tr>\n",
       "  </thead>\n",
       "  <tbody>\n",
       "    <tr>\n",
       "      <th>0</th>\n",
       "      <td>Bronx</td>\n",
       "      <td>10453, 10457, 10460</td>\n",
       "    </tr>\n",
       "    <tr>\n",
       "      <th>1</th>\n",
       "      <td>Bronx</td>\n",
       "      <td>10458, 10467, 10468</td>\n",
       "    </tr>\n",
       "    <tr>\n",
       "      <th>2</th>\n",
       "      <td>Bronx</td>\n",
       "      <td>10451, 10452, 10456</td>\n",
       "    </tr>\n",
       "    <tr>\n",
       "      <th>3</th>\n",
       "      <td>Bronx</td>\n",
       "      <td>10454, 10455, 10459, 10474</td>\n",
       "    </tr>\n",
       "    <tr>\n",
       "      <th>4</th>\n",
       "      <td>Bronx</td>\n",
       "      <td>10463, 10471</td>\n",
       "    </tr>\n",
       "  </tbody>\n",
       "</table>\n",
       "</div>"
      ],
      "text/plain": [
       "  city_district                         zip\n",
       "0         Bronx         10453, 10457, 10460\n",
       "1         Bronx         10458, 10467, 10468\n",
       "2         Bronx         10451, 10452, 10456\n",
       "3         Bronx  10454, 10455, 10459, 10474\n",
       "4         Bronx                10463, 10471"
      ]
     },
     "execution_count": 608,
     "metadata": {},
     "output_type": "execute_result"
    }
   ],
   "source": [
    "ny_final.head()"
   ]
  },
  {
   "cell_type": "code",
   "execution_count": 610,
   "metadata": {},
   "outputs": [],
   "source": [
    "# final grouping...\n",
    "ny_final = ny_final.groupby(['city_district'])['zip'].apply(', '.join).reset_index()"
   ]
  },
  {
   "cell_type": "code",
   "execution_count": 611,
   "metadata": {},
   "outputs": [
    {
     "data": {
      "text/html": [
       "<div>\n",
       "<style scoped>\n",
       "    .dataframe tbody tr th:only-of-type {\n",
       "        vertical-align: middle;\n",
       "    }\n",
       "\n",
       "    .dataframe tbody tr th {\n",
       "        vertical-align: top;\n",
       "    }\n",
       "\n",
       "    .dataframe thead th {\n",
       "        text-align: right;\n",
       "    }\n",
       "</style>\n",
       "<table border=\"1\" class=\"dataframe\">\n",
       "  <thead>\n",
       "    <tr style=\"text-align: right;\">\n",
       "      <th></th>\n",
       "      <th>city_district</th>\n",
       "      <th>zip</th>\n",
       "    </tr>\n",
       "  </thead>\n",
       "  <tbody>\n",
       "    <tr>\n",
       "      <th>0</th>\n",
       "      <td>Bronx</td>\n",
       "      <td>10453, 10457, 10460, 10458, 10467, 10468, 1045...</td>\n",
       "    </tr>\n",
       "    <tr>\n",
       "      <th>1</th>\n",
       "      <td>Brooklyn</td>\n",
       "      <td>11212, 11213, 11216, 11233, 11238, 11209, 1121...</td>\n",
       "    </tr>\n",
       "    <tr>\n",
       "      <th>2</th>\n",
       "      <td>Manhattan</td>\n",
       "      <td>10026, 10027, 10030, 10037, 10039, 10001, 1001...</td>\n",
       "    </tr>\n",
       "    <tr>\n",
       "      <th>3</th>\n",
       "      <td>Queens</td>\n",
       "      <td>11361, 11362, 11363, 11364, 11354, 11355, 1135...</td>\n",
       "    </tr>\n",
       "    <tr>\n",
       "      <th>4</th>\n",
       "      <td>Staten Island</td>\n",
       "      <td>10302, 10303, 10310, 10306, 10307, 10308, 1030...</td>\n",
       "    </tr>\n",
       "  </tbody>\n",
       "</table>\n",
       "</div>"
      ],
      "text/plain": [
       "   city_district                                                zip\n",
       "0          Bronx  10453, 10457, 10460, 10458, 10467, 10468, 1045...\n",
       "1       Brooklyn  11212, 11213, 11216, 11233, 11238, 11209, 1121...\n",
       "2      Manhattan  10026, 10027, 10030, 10037, 10039, 10001, 1001...\n",
       "3         Queens  11361, 11362, 11363, 11364, 11354, 11355, 1135...\n",
       "4  Staten Island  10302, 10303, 10310, 10306, 10307, 10308, 1030..."
      ]
     },
     "execution_count": 611,
     "metadata": {},
     "output_type": "execute_result"
    }
   ],
   "source": [
    "ny_final"
   ]
  },
  {
   "cell_type": "code",
   "execution_count": 612,
   "metadata": {},
   "outputs": [],
   "source": [
    "df = df.append(ny_final)"
   ]
  },
  {
   "cell_type": "code",
   "execution_count": 614,
   "metadata": {},
   "outputs": [],
   "source": [
    "df.reset_index(drop=True, inplace=True)"
   ]
  },
  {
   "cell_type": "markdown",
   "metadata": {},
   "source": [
    "## The final result:"
   ]
  },
  {
   "cell_type": "code",
   "execution_count": 615,
   "metadata": {},
   "outputs": [
    {
     "data": {
      "text/html": [
       "<div>\n",
       "<style scoped>\n",
       "    .dataframe tbody tr th:only-of-type {\n",
       "        vertical-align: middle;\n",
       "    }\n",
       "\n",
       "    .dataframe tbody tr th {\n",
       "        vertical-align: top;\n",
       "    }\n",
       "\n",
       "    .dataframe thead th {\n",
       "        text-align: right;\n",
       "    }\n",
       "</style>\n",
       "<table border=\"1\" class=\"dataframe\">\n",
       "  <thead>\n",
       "    <tr style=\"text-align: right;\">\n",
       "      <th></th>\n",
       "      <th>city_district</th>\n",
       "      <th>zip</th>\n",
       "    </tr>\n",
       "  </thead>\n",
       "  <tbody>\n",
       "    <tr>\n",
       "      <th>0</th>\n",
       "      <td>Downtown</td>\n",
       "      <td>60611, 60605, 60605, 60610, 60611, 60601, 6060...</td>\n",
       "    </tr>\n",
       "    <tr>\n",
       "      <th>1</th>\n",
       "      <td>Far North Side</td>\n",
       "      <td>60640, 60625, 60613, 60640, 60613, 60640, 6064...</td>\n",
       "    </tr>\n",
       "    <tr>\n",
       "      <th>2</th>\n",
       "      <td>North Shore</td>\n",
       "      <td>60015, 60015, 60201, 60202, 60203, 60204, 6020...</td>\n",
       "    </tr>\n",
       "    <tr>\n",
       "      <th>3</th>\n",
       "      <td>North Side</td>\n",
       "      <td>60613, 60657, 60613, 60657, 60614, 60622, 6064...</td>\n",
       "    </tr>\n",
       "    <tr>\n",
       "      <th>4</th>\n",
       "      <td>Northwest Side</td>\n",
       "      <td>60625, 60618, 60639, 60641, 60630, 60618, 6063...</td>\n",
       "    </tr>\n",
       "    <tr>\n",
       "      <th>5</th>\n",
       "      <td>South Side</td>\n",
       "      <td>60609, 60620, 60643, 60655, 60608, 60609, 6061...</td>\n",
       "    </tr>\n",
       "    <tr>\n",
       "      <th>6</th>\n",
       "      <td>Western Suburbs</td>\n",
       "      <td>60126, 60502, 60503, 60504, 60505, 60506, 6050...</td>\n",
       "    </tr>\n",
       "    <tr>\n",
       "      <th>7</th>\n",
       "      <td>Downtown Los Angeles</td>\n",
       "      <td>90012, 90030, 90086, 90087, 90012, 90014, 9007...</td>\n",
       "    </tr>\n",
       "    <tr>\n",
       "      <th>8</th>\n",
       "      <td>East Los Angeles</td>\n",
       "      <td>90039, 90033, 90063, 90065, 90041, 90032, 9003...</td>\n",
       "    </tr>\n",
       "    <tr>\n",
       "      <th>9</th>\n",
       "      <td>Greater Hollywood</td>\n",
       "      <td>90029, 90027, 90028, 90038, 90046, 90068, 9006...</td>\n",
       "    </tr>\n",
       "    <tr>\n",
       "      <th>10</th>\n",
       "      <td>Harbor Area</td>\n",
       "      <td>90710, 90061, 90247, 90248, 90501, 90502, 9073...</td>\n",
       "    </tr>\n",
       "    <tr>\n",
       "      <th>11</th>\n",
       "      <td>Mid-City Los Angeles</td>\n",
       "      <td>90019, 90004, 90005, 90020, 90006, 90005, 9000...</td>\n",
       "    </tr>\n",
       "    <tr>\n",
       "      <th>12</th>\n",
       "      <td>North West Los Angeles</td>\n",
       "      <td>90077, 90049, 90067, 90064, 90272, 90064, 9002...</td>\n",
       "    </tr>\n",
       "    <tr>\n",
       "      <th>13</th>\n",
       "      <td>Rampart Area</td>\n",
       "      <td>90026, 90026, 90039, 90004, 90057</td>\n",
       "    </tr>\n",
       "    <tr>\n",
       "      <th>14</th>\n",
       "      <td>San Fernando Valley</td>\n",
       "      <td>91331, 91303, 91304, 91305, 91308, 91309, 9131...</td>\n",
       "    </tr>\n",
       "    <tr>\n",
       "      <th>15</th>\n",
       "      <td>South East Los Angeles</td>\n",
       "      <td>90002, 90003, 90007, 90011, 90037, 90058</td>\n",
       "    </tr>\n",
       "    <tr>\n",
       "      <th>16</th>\n",
       "      <td>South Los Angeles</td>\n",
       "      <td>90008, 90008, 90001, 90043, 90018, 90008, 9001...</td>\n",
       "    </tr>\n",
       "    <tr>\n",
       "      <th>17</th>\n",
       "      <td>South West Los Angeles</td>\n",
       "      <td>90045, 90066, 90034, 90293, 90296, 90094, 9029...</td>\n",
       "    </tr>\n",
       "    <tr>\n",
       "      <th>18</th>\n",
       "      <td>Westside</td>\n",
       "      <td>90292, 90095, 90089, 90035</td>\n",
       "    </tr>\n",
       "    <tr>\n",
       "      <th>19</th>\n",
       "      <td>Bronx</td>\n",
       "      <td>10453, 10457, 10460, 10458, 10467, 10468, 1045...</td>\n",
       "    </tr>\n",
       "    <tr>\n",
       "      <th>20</th>\n",
       "      <td>Brooklyn</td>\n",
       "      <td>11212, 11213, 11216, 11233, 11238, 11209, 1121...</td>\n",
       "    </tr>\n",
       "    <tr>\n",
       "      <th>21</th>\n",
       "      <td>Manhattan</td>\n",
       "      <td>10026, 10027, 10030, 10037, 10039, 10001, 1001...</td>\n",
       "    </tr>\n",
       "    <tr>\n",
       "      <th>22</th>\n",
       "      <td>Queens</td>\n",
       "      <td>11361, 11362, 11363, 11364, 11354, 11355, 1135...</td>\n",
       "    </tr>\n",
       "    <tr>\n",
       "      <th>23</th>\n",
       "      <td>Staten Island</td>\n",
       "      <td>10302, 10303, 10310, 10306, 10307, 10308, 1030...</td>\n",
       "    </tr>\n",
       "  </tbody>\n",
       "</table>\n",
       "</div>"
      ],
      "text/plain": [
       "             city_district                                                zip\n",
       "0                 Downtown  60611, 60605, 60605, 60610, 60611, 60601, 6060...\n",
       "1           Far North Side  60640, 60625, 60613, 60640, 60613, 60640, 6064...\n",
       "2              North Shore  60015, 60015, 60201, 60202, 60203, 60204, 6020...\n",
       "3               North Side  60613, 60657, 60613, 60657, 60614, 60622, 6064...\n",
       "4           Northwest Side  60625, 60618, 60639, 60641, 60630, 60618, 6063...\n",
       "5               South Side  60609, 60620, 60643, 60655, 60608, 60609, 6061...\n",
       "6          Western Suburbs  60126, 60502, 60503, 60504, 60505, 60506, 6050...\n",
       "7     Downtown Los Angeles  90012, 90030, 90086, 90087, 90012, 90014, 9007...\n",
       "8         East Los Angeles  90039, 90033, 90063, 90065, 90041, 90032, 9003...\n",
       "9        Greater Hollywood  90029, 90027, 90028, 90038, 90046, 90068, 9006...\n",
       "10             Harbor Area  90710, 90061, 90247, 90248, 90501, 90502, 9073...\n",
       "11    Mid-City Los Angeles  90019, 90004, 90005, 90020, 90006, 90005, 9000...\n",
       "12  North West Los Angeles  90077, 90049, 90067, 90064, 90272, 90064, 9002...\n",
       "13            Rampart Area                  90026, 90026, 90039, 90004, 90057\n",
       "14     San Fernando Valley  91331, 91303, 91304, 91305, 91308, 91309, 9131...\n",
       "15  South East Los Angeles           90002, 90003, 90007, 90011, 90037, 90058\n",
       "16       South Los Angeles  90008, 90008, 90001, 90043, 90018, 90008, 9001...\n",
       "17  South West Los Angeles  90045, 90066, 90034, 90293, 90296, 90094, 9029...\n",
       "18                Westside                         90292, 90095, 90089, 90035\n",
       "19                   Bronx  10453, 10457, 10460, 10458, 10467, 10468, 1045...\n",
       "20                Brooklyn  11212, 11213, 11216, 11233, 11238, 11209, 1121...\n",
       "21               Manhattan  10026, 10027, 10030, 10037, 10039, 10001, 1001...\n",
       "22                  Queens  11361, 11362, 11363, 11364, 11354, 11355, 1135...\n",
       "23           Staten Island  10302, 10303, 10310, 10306, 10307, 10308, 1030..."
      ]
     },
     "execution_count": 615,
     "metadata": {},
     "output_type": "execute_result"
    }
   ],
   "source": [
    "df"
   ]
  },
  {
   "cell_type": "markdown",
   "metadata": {},
   "source": [
    "Let's save the table above into a csv file for future use in our main project:"
   ]
  },
  {
   "cell_type": "code",
   "execution_count": 616,
   "metadata": {},
   "outputs": [],
   "source": [
    "df.to_csv('zip_codes.csv', index=False) "
   ]
  },
  {
   "cell_type": "code",
   "execution_count": null,
   "metadata": {},
   "outputs": [],
   "source": []
  }
 ],
 "metadata": {
  "kernelspec": {
   "display_name": "Python 3",
   "language": "python",
   "name": "python3"
  },
  "language_info": {
   "codemirror_mode": {
    "name": "ipython",
    "version": 3
   },
   "file_extension": ".py",
   "mimetype": "text/x-python",
   "name": "python",
   "nbconvert_exporter": "python",
   "pygments_lexer": "ipython3",
   "version": "3.7.3"
  }
 },
 "nbformat": 4,
 "nbformat_minor": 2
}
