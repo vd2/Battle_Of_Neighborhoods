{
 "cells": [
  {
   "cell_type": "markdown",
   "metadata": {},
   "source": [
    "<center>\n",
    "    <H1> The Final Project: </H1>\n",
    "    <H2><i>Choosing a place for a vegetarian restaurant in New York, Los Angeles and Chicago</i> </H2>\n",
    "</center>\n",
    "\n",
    "## 1. Introduction\n",
    "\n",
    "### 1.1. The Background Information\n",
    "\n",
    "The growing popularity of vegetarianism is noticeable globally. For example, in US alone, according to the Gallup  research conducted in year 2018 [1], around 8\\% of americans consider themselves vegetarians. People choose vegetarian diet for various reasons. Previously, vegetarians were more concerned about ethical issues regarding animal welfare, but the sharp increase in interest in vegetarianism have another reason. Nowadays, many new vegetarians put their personal health and the \"health\" of the Earth at the forefront. Thus, it is believed that people who eat less meat, especially red one, live longer and suffer less from cardiovascular diseases and even some forms of cancer. In addition, livestock has a negative impact on greenhouse gas emissions. According to a study conducted by the Oxford Martin School [2], a global switch to vegetarianism could reduce greenhouse gas emissions from food production by more than 60\\%.\n",
    "\n",
    "In light of the above, the role of  places where \"green-thinking\" people could get full-bodied meal without meeting halfway their \"green\" beliefs, becomes crucial.\n",
    "\n",
    "> [1] Snapshot: Few Americans Vegetarian or Vegan Gallup, Inc - https://news.gallup.com/poll/238328/snapshot-few-americans-vegetarian-vegan.aspx\n",
    ">\n",
    "> [2] Peter Scarborough, Paul N. Appleby, Anja Mizdrak, Adam D. M. Briggs, Ruth C. Travis, Kathryn E. Bradbury, and Timothy J. Key. Dietary greenhouse gas emis- sions of meat-eaters, fish-eaters, vegetarians and vegans in the uk. Climatic Change, 125(2):179–192, Jul 2014.\n",
    "\n",
    "\n",
    "### 1.2. The Problem\n",
    "\n",
    "The **purpose** of the work (or a **problem** to be solved) is to find out the optimal location for a vegetarian eatery in one of the three most populous US cities – New York City (NY), City of Los Angeles (CA) and Chicago (IL) by means of profiling existing approximately 1000 vegetarian eateries of the these cities using methods of descriptive statistics and machine learning algorithms. The received results can be generalized to the cities sharing the same populational and sociocultural context (e.g. big cities of North America and probably Europe). \n",
    "\n",
    "**Stakeholders** of the result of this research would be as entrepreneurs who wish to establish their own vegetarian restaurant, as the vegetarian food lovers willing to get acquainted with the best veg restaurants.  \n",
    "\n",
    "**The Foursquare** location data application will be described in the chapter below.\n",
    "\n",
    "## 2. Data sources\n",
    "In order to accomplish the aforementioned task the following data sources will be examined and used:\n",
    "\n",
    "1. Dataset 'US vegetarian restaurants', available from [Kaggle](https://www.kaggle.com/parkerservello/veg-restaurants)\n",
    "    * This is the main data source containing quite large amount of data concerning the veg restaurants. Unfortunatelly, the most of the data is fragmentary and unstructured. Thus, we'll take only the `name` (of the places),  `coordinates` (latitude, longitude) and `city` (to cut out unneeded data concerning other than the three cities of interest).\n",
    "2. Google databases (through *Google API* quries)\n",
    "    * The API queries to Google databases will be used to find out the categories of the places, their ratings and number of people who rated the place. The query strings will contain the place's name and its coordinates.\n",
    "3. Foursquare databases (API queries as well)\n",
    "    * The Foursquare will be helpful in finding the venues nearby the restaurants and finding out the share of competitors (other eateries) among them.\n",
    "4. OpenStreetMap map and textual data (through *Folium* and  *Nominatim* libraries, accordingly)\n",
    "    * The Nominatim libraries will help us to find out the zip codes of the places of interest and number of parking areas nearby every place.\n",
    "    * The Folium libraris will be used to acqure map data in order to visualize the received reults \n",
    "5. Dataset 'Insightful & Vast USA Statistics' available from [Kaggle](https://www.kaggle.com/goldenoakresearch/us-acs-mortgage-equity-loans-rent-statistics), as well.\n",
    "    * This dataset will be used to acqure median rental data and population data by zip codes. \n",
    "    * Missing values will be chcked manually using [Mapszipcode](http://www.mapszipcode.com/california/woodland%20hills/91364/) site."
   ]
  }
 ],
 "metadata": {
  "kernelspec": {
   "display_name": "Python 3",
   "language": "python",
   "name": "python3"
  },
  "language_info": {
   "codemirror_mode": {
    "name": "ipython",
    "version": 3
   },
   "file_extension": ".py",
   "mimetype": "text/x-python",
   "name": "python",
   "nbconvert_exporter": "python",
   "pygments_lexer": "ipython3",
   "version": "3.7.3"
  }
 },
 "nbformat": 4,
 "nbformat_minor": 2
}
